{
 "cells": [
  {
   "cell_type": "markdown",
   "metadata": {},
   "source": [
    "# すごーーーくざっくり秘密計算\n",
    "一番ベーシックな秘密計算法であるMulti Party Computationを理解すると秘密計算が何をしたいかがふわっとわかる。\n",
    "\n",
    "プライバシーテック研究所の[【技術】MPC技術入門① Multi-Party Computationの基本と応用](https://acompany.tech/privacytechlab/mpc-multi-party-computation-1/)を参考に理解していく  \n",
    "\n",
    "![](./img/blog-screenshot.png)  \n",
    "\n",
    "数式を略図にすると以下のようになる  \n",
    "![](./img/multi-party-computation-image.jpeg)"
   ]
  },
  {
   "cell_type": "code",
   "execution_count": 39,
   "metadata": {},
   "outputs": [
    {
     "name": "stdout",
     "output_type": "stream",
     "text": [
      "秘密の入力: [3, 7, 2]\n",
      "参加者ごとの分割シェア:\n",
      "参加者1: [-13764641391, 6672879417, 7091761977]\n",
      "参加者2: [2951533402, -8534945726, 5583412331]\n",
      "参加者3: [4175733644, 3398380978, -7574114620]\n",
      "集計されたシェア: [-6637374345, 1536314669, 5101059688]\n",
      "最終的な合計: 12\n"
     ]
    }
   ],
   "source": [
    "import random\n",
    "\n",
    "# 乱数の範囲を設定\n",
    "RANDOM_RANGE = 1e10\n",
    "\n",
    "# 3人の参加者の秘密の入力\n",
    "x = [3, 7, 2]\n",
    "print(f\"秘密の入力: {x}\")\n",
    "\n",
    "# 参加者ごとにxを分割\n",
    "x_shares = [[0] * 3 for _ in range(3)]\n",
    "for i in range(3):\n",
    "    for j in range(3):\n",
    "        if i != j:\n",
    "            x_shares[i][j] = random.randint(0, RANDOM_RANGE)\n",
    "    x_shares[i][i] = x[i] - sum(x_shares[i])\n",
    "\n",
    "print(\"参加者ごとの分割シェア:\")\n",
    "for i in range(3):\n",
    "    print(f\"参加者{i+1}: {x_shares[i]}\")\n",
    "\n",
    "# 加算\n",
    "s = [0] * 3\n",
    "for j in range(3):\n",
    "    for i in range(3):\n",
    "        s[j] += x_shares[i][j]\n",
    "print(f\"集計されたシェア: {s}\")\n",
    "\n",
    "# 集計されたシェアから最終的な合計を計算\n",
    "final_sum = sum(s)\n",
    "print(f\"最終的な合計: {final_sum}\")"
   ]
  },
  {
   "cell_type": "markdown",
   "metadata": {},
   "source": [
    "最初に乱数で分割したことで、各プロセスは意味のない乱数の足し算をしているだけ。  \n",
    "秘密の値を複合しなくても、暗号化された値のまま足し算することで秘密の値の総和を計算できた。  \n",
    "また、複数のサーバーが協力して計算を行うため、1つのサーバーが攻撃を受けて漏洩したとしても秘密情報そのものの漏洩は防げる。  \n",
    "\n",
    "この例では加算しか扱っていないが、Beaver Multiplication Triplesという手法を使えば、乗算も計算可能らしい。  \n",
    "また[secure machine learning](https://acompany.tech/privacytechlab/secure-machine-learning/)という、秘密情報のまま学習・推論を行う機械学習手法でも、MPCを用いた研究が行われている。"
   ]
  }
 ],
 "metadata": {
  "kernelspec": {
   "display_name": ".venv",
   "language": "python",
   "name": "python3"
  },
  "language_info": {
   "codemirror_mode": {
    "name": "ipython",
    "version": 3
   },
   "file_extension": ".py",
   "mimetype": "text/x-python",
   "name": "python",
   "nbconvert_exporter": "python",
   "pygments_lexer": "ipython3",
   "version": "3.10.14"
  }
 },
 "nbformat": 4,
 "nbformat_minor": 2
}
